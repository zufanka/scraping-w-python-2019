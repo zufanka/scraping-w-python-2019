{
 "cells": [
  {
   "cell_type": "markdown",
   "metadata": {},
   "source": [
    "We will use three libraries in this class. **`requests`** helps you download the whole website content. **`BeautifulSoup`** picks out the important parts. We will convert the data we pick out to a proper data set with **`pandas`**. Let's import these. Be careful, you need to import BeautifulSoup **from** the `bs` library (see previous lesson)."
   ]
  },
  {
   "cell_type": "code",
   "execution_count": null,
   "metadata": {
    "collapsed": true
   },
   "outputs": [],
   "source": []
  },
  {
   "cell_type": "markdown",
   "metadata": {},
   "source": [
    "Go to the page https://www.nbim.no/en/responsibility/our-voting-records/ and do a search by \"Meeting date search\". We now see data we want to scrape. Note the URL. Did it change?<br>\n",
    "It did! Put the new URL in the variable `url`. Remember, this is a string, you need to use quotes."
   ]
  },
  {
   "cell_type": "code",
   "execution_count": null,
   "metadata": {
    "collapsed": true
   },
   "outputs": [],
   "source": []
  },
  {
   "cell_type": "markdown",
   "metadata": {},
   "source": [
    "We will dowload the website with requests. Create a variable `r` and write **`requests.get(url)`**<br>"
   ]
  },
  {
   "cell_type": "code",
   "execution_count": null,
   "metadata": {},
   "outputs": [],
   "source": []
  },
  {
   "cell_type": "markdown",
   "metadata": {},
   "source": [
    "Now let's pick out the interesting parts with BeautifulSoup now. Which are the interesting parts?"
   ]
  },
  {
   "cell_type": "markdown",
   "metadata": {},
   "source": [
    "## Inspect element"
   ]
  },
  {
   "cell_type": "markdown",
   "metadata": {},
   "source": [
    "Now we will play **detectives** and **butchers**. We see what we want, but we need to instruct BeautifulSoup how to dissect the website for us. Computer sees different things than we do in a website."
   ]
  },
  {
   "attachments": {
    "image.png": {
     "image/png": "[encoded data removed]"
    }
   },
   "cell_type": "markdown",
   "metadata": {},
   "source": [
    "![image.png](attachment:image.png)"
   ]
  },
  {
   "cell_type": "markdown",
   "metadata": {},
   "source": [
    "Let's see [how tables are made](https://www.w3schools.com/html/tryit.asp?filename=tryhtml_table)"
   ]
  },
  {
   "cell_type": "markdown",
   "metadata": {},
   "source": [
    "To dissect the website, we will use a couple of BeautifulSoup methods: \n",
    "* **`.find()`** : find the first element on a website\n",
    "* **`.find_all()`** : find all the elements on a website (returns a list)\n",
    "* **`.get()`** : get a certain attribute such as link\n",
    "* **`.text`**: return only the text, no tags"
   ]
  },
  {
   "cell_type": "markdown",
   "metadata": {},
   "source": [
    "## The recipe"
   ]
  },
  {
   "cell_type": "markdown",
   "metadata": {},
   "source": [
    "\n",
    "  1. create an empty list, called _`data`_ for example\n",
    "  1. read the website (we read with requests before!) with BeautifulSoup: **`BeautifulSoup(r, \"lxml\")`**\n",
    "  2. find the `table` element: **`.find()`**\n",
    "  3. find all the `tr` elements **`.find_all()`**\n",
    "  4. `for` each `tr` element, find all `td` elements\n",
    "  5. save each td element you want in a different variable, eg. `company_name`, `meeting_url`, etc.\n",
    "  6. make a list of these variables and `append` them to another list"
   ]
  },
  {
   "cell_type": "code",
   "execution_count": null,
   "metadata": {},
   "outputs": [],
   "source": []
  },
  {
   "cell_type": "markdown",
   "metadata": {},
   "source": [
    "Use pandas to export your table into a csv! And you are done!"
   ]
  },
  {
   "cell_type": "code",
   "execution_count": null,
   "metadata": {
    "collapsed": true
   },
   "outputs": [],
   "source": []
  }
 ],
 "metadata": {
  "kernelspec": {
   "display_name": "Python 3",
   "language": "python",
   "name": "python3"
  },
  "language_info": {
   "codemirror_mode": {
    "name": "ipython",
    "version": 3
   },
   "file_extension": ".py",
   "mimetype": "text/x-python",
   "name": "python",
   "nbconvert_exporter": "python",
   "pygments_lexer": "ipython3",
   "version": "3.7.1"
  }
 },
 "nbformat": 4,
 "nbformat_minor": 2
}
